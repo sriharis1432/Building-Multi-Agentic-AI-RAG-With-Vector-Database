{
  "nbformat": 4,
  "nbformat_minor": 0,
  "metadata": {
    "colab": {
      "provenance": []
    },
    "kernelspec": {
      "name": "python3",
      "display_name": "Python 3"
    },
    "language_info": {
      "name": "python"
    }
  },
  "cells": [
    {
      "cell_type": "markdown",
      "source": [
        "# RAG (Retrieval-Augmented Generation) is a technique that allows you to use a knowledge base to answer questions.\n",
        "\n"
      ],
      "metadata": {
        "id": "ivAWguJSxEEm"
      }
    },
    {
      "cell_type": "code",
      "source": [
        "from phi.agent import Agent\n",
        "from phi.model.openai import OpenAIChat\n",
        "from phi.embedder.openai import OpenAIEmbedder\n",
        "from phi.knowledge.pdf import PDFUrlKnowledgeBase\n",
        "from phi.vectordb.lancedb import LanceDb, SearchType\n",
        "\n",
        "# Create a knowledge base from a PDF\n",
        "knowledge_base = PDFUrlKnowledgeBase(\n",
        "    urls=[\"https://phi-public.s3.amazonaws.com/recipes/ThaiRecipes.pdf\"],\n",
        "    # Use LanceDB as the vector database\n",
        "    vector_db=LanceDb(\n",
        "        table_name=\"recipes\",\n",
        "        uri=\"tmp/lancedb\",\n",
        "        search_type=SearchType.vector,\n",
        "        embedder=OpenAIEmbedder(model=\"text-embedding-3-small\"),\n",
        "    ),\n",
        ")\n",
        "# Comment out after first run as the knowledge base is loaded\n",
        "knowledge_base.load(recreate=False)\n",
        "\n",
        "agent = Agent(\n",
        "    model=OpenAIChat(id=\"gpt-4o\"),\n",
        "    # Add the knowledge base to the agent\n",
        "    knowledge=knowledge_base,\n",
        "    show_tool_calls=True,\n",
        "    markdown=True,\n",
        ")\n",
        "agent.print_response(\"How do I make chicken and galangal in coconut milk soup\", stream=True)"
      ],
      "metadata": {
        "id": "84SP9iAkw1Lc"
      },
      "execution_count": null,
      "outputs": []
    },
    {
      "cell_type": "markdown",
      "source": [
        "# Streamlit app"
      ],
      "metadata": {
        "id": "EVAwJlR6xsQe"
      }
    },
    {
      "cell_type": "code",
      "source": [
        "import streamlit as st\n",
        "from phi.agent import Agent\n",
        "from phi.model.openai import OpenAIChat\n",
        "from phi.embedder.openai import OpenAIEmbedder\n",
        "from phi.knowledge.pdf import PDFUrlKnowledgeBase\n",
        "from phi.vectordb.lancedb import LanceDb, SearchType\n",
        "\n",
        "# Streamlit App\n",
        "st.title(\"PDF Knowledge Base Query\")\n",
        "\n",
        "st.sidebar.title(\"Configuration\")\n",
        "pdf_url = st.sidebar.text_input(\"PDF URL\", value=\"https://phi-public.s3.amazonaws.com/recipes/ThaiRecipes.pdf\")\n",
        "search_type = st.sidebar.selectbox(\"Search Type\", [\"vector\", \"scalar\"], index=0)\n",
        "embedder_model = st.sidebar.text_input(\"Embedder Model\", value=\"text-embedding-3-small\")\n",
        "table_name = st.sidebar.text_input(\"Table Name\", value=\"recipes\")\n",
        "db_uri = st.sidebar.text_input(\"Database URI\", value=\"tmp/lancedb\")\n",
        "\n",
        "if st.sidebar.button(\"Load Knowledge Base\"):\n",
        "    with st.spinner(\"Loading knowledge base...\"):\n",
        "        # Create a knowledge base from the PDF\n",
        "        knowledge_base = PDFUrlKnowledgeBase(\n",
        "            urls=[pdf_url],\n",
        "            vector_db=LanceDb(\n",
        "                table_name=table_name,\n",
        "                uri=db_uri,\n",
        "                search_type=SearchType[search_type],\n",
        "                embedder=OpenAIEmbedder(model=embedder_model),\n",
        "            ),\n",
        "        )\n",
        "        # Load the knowledge base (do not recreate if already exists)\n",
        "        knowledge_base.load(recreate=False)\n",
        "        st.success(\"Knowledge base loaded successfully!\")\n",
        "\n",
        "# Check if knowledge base is ready\n",
        "if \"knowledge_base\" not in st.session_state:\n",
        "    st.warning(\"Please load the knowledge base first.\")\n",
        "else:\n",
        "    # Create an agent with the knowledge base\n",
        "    agent = Agent(\n",
        "        model=OpenAIChat(id=\"gpt-4o\"),\n",
        "        knowledge=st.session_state[\"knowledge_base\"],\n",
        "        show_tool_calls=True,\n",
        "        markdown=True,\n",
        "    )\n",
        "\n",
        "    # Query input\n",
        "    query = st.text_input(\"Enter your query:\", \"\")\n",
        "\n",
        "    if st.button(\"Submit Query\"):\n",
        "        if query.strip() == \"\":\n",
        "            st.warning(\"Please enter a valid query.\")\n",
        "        else:\n",
        "            st.subheader(\"Response\")\n",
        "            with st.spinner(\"Processing your query...\"):\n",
        "                response = agent.ask(query, stream=False)\n",
        "                st.markdown(response)\n"
      ],
      "metadata": {
        "id": "0JQlVxGrxrZH"
      },
      "execution_count": null,
      "outputs": []
    }
  ]
}